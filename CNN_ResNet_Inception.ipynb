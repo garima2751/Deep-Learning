{
  "nbformat": 4,
  "nbformat_minor": 0,
  "metadata": {
    "colab": {
      "name": "Homework_3.ipynb",
      "provenance": [],
      "collapsed_sections": []
    },
    "kernelspec": {
      "name": "python3",
      "display_name": "Python 3"
    },
    "accelerator": "GPU"
  },
  "cells": [
    {
      "cell_type": "markdown",
      "metadata": {
        "id": "hXVpl7jLbw_6",
        "colab_type": "text"
      },
      "source": [
        "## (A) Implement a CNN architecture for FashionMNIST dataset (15 points)\n",
        "\n",
        "\n",
        "*   Basic CNN architecture (5 points)\n",
        "*   Include at least one layer of\n",
        "      1.   ResNet module (5 points)\n",
        "      2.   Inception Module (5 points)\n",
        "\n",
        "## (B) Compare the performance of your CNN architecture with \"best\" architecture from HW2. (5 points)\n",
        "You can reimplement your HW2 architecture in Keras to make the comparison fair.  \n"
      ]
    },
    {
      "cell_type": "code",
      "metadata": {
        "id": "UX2vylIwOlMX",
        "colab_type": "code",
        "colab": {}
      },
      "source": [
        "import tensorflow as tf\n",
        "from tensorflow.keras import datasets, layers, models\n"
      ],
      "execution_count": null,
      "outputs": []
    },
    {
      "cell_type": "code",
      "metadata": {
        "id": "Z-LZjc7kcTbc",
        "colab_type": "code",
        "colab": {}
      },
      "source": [
        "from tensorflow.keras.datasets import fashion_mnist\n",
        "from tensorflow.keras.utils import to_categorical\n",
        "from tensorflow.keras.models import Sequential\n",
        "from tensorflow.keras import models, layers\n",
        "from tensorflow.keras.models import Model\n",
        "from tensorflow.keras.optimizers import SGD\n",
        "import matplotlib.pyplot as plt\n",
        "from tensorflow.keras.utils import plot_model\n",
        "import numpy as np\n",
        "\n",
        " "
      ],
      "execution_count": null,
      "outputs": []
    },
    {
      "cell_type": "code",
      "metadata": {
        "id": "F0wQx4QVq3JJ",
        "colab_type": "code",
        "colab": {}
      },
      "source": [
        "def load_data():\n",
        "  (x_train, y_train), (x_test, y_test) = fashion_mnist.load_data()\n",
        "  x_train = x_train.reshape((x_train.shape[0], 28, 28, 1))\n",
        "  x_test = x_test.reshape((x_test.shape[0], 28, 28, 1))\n",
        "  y_train = to_categorical(y_train)\n",
        "  y_test =  to_categorical(y_test) \n",
        "  return x_train,y_train,x_test,y_test \n"
      ],
      "execution_count": null,
      "outputs": []
    },
    {
      "cell_type": "code",
      "metadata": {
        "id": "hrodBmcKcKjl",
        "colab_type": "code",
        "colab": {}
      },
      "source": [
        "def normalize(x_train,x_test):\n",
        "\tx_train = x_train.astype('float32')\n",
        "\tx_test = x_test.astype('float32')\n",
        "\tx_train = x_train / 255.0\n",
        "\tx_test = x_test / 255.0\n",
        "\treturn x_train,x_test\n",
        "\n"
      ],
      "execution_count": null,
      "outputs": []
    },
    {
      "cell_type": "code",
      "metadata": {
        "id": "CPpDOjqwc-IV",
        "colab_type": "code",
        "colab": {}
      },
      "source": [
        "def define_model():\n",
        "  model = Sequential()\n",
        "  model.add(layers.Conv2D(32, kernel_size=(5, 5), strides=(1, 1), activation='relu', input_shape=(28,28,1), padding=\"same\"))\n",
        "  model.add(layers.Conv2D(64, kernel_size=(5, 5), strides=(1, 1), activation='relu', padding=\"same\"))\n",
        "  model.add(layers.MaxPooling2D(pool_size=(2, 2), strides=(2, 2), padding=\"valid\"))\n",
        "  model.add(layers.Conv2D(96, kernel_size=(5, 5), strides=(1, 1), activation='relu', padding=\"same\"))\n",
        "  model.add(layers.MaxPooling2D(pool_size=(2, 2), strides=(2, 2), padding=\"valid\"))\n",
        "  model.add(layers.Conv2D(120, kernel_size=(5, 5), strides=(1, 1), activation='relu', padding=\"same\"))\n",
        "  model.add(layers.Flatten())\n",
        "  model.add(layers.Dense(1024, activation='relu', kernel_initializer='he_uniform'))\n",
        "  model.add(layers.Dense(10, activation='softmax'))\n",
        "  opt = SGD(lr=0.01, momentum=0.9)\n",
        "  model.compile(optimizer=opt, loss='categorical_crossentropy', metrics=['accuracy'])\n",
        "  return model\n"
      ],
      "execution_count": null,
      "outputs": []
    },
    {
      "cell_type": "code",
      "metadata": {
        "id": "GRrUqsV8fANm",
        "colab_type": "code",
        "colab": {
          "base_uri": "https://localhost:8080/",
          "height": 572
        },
        "outputId": "2455caf1-4c60-4282-ea39-4a471d3d2383"
      },
      "source": [
        "x_train,y_train,x_test,y_test = load_data()\n",
        "x_train,x_test = normalize(x_train,x_test)\n",
        "model = define_model()\n",
        "hist = model.fit(x=x_train,y=y_train, epochs=15, batch_size=128, validation_data=(x_test, y_test), verbose=1)\n",
        "score = model.evaluate(x_test, y_test, verbose=0)\n",
        "\n",
        "print('Test loss:', score[0])\n",
        "print('Test accuracy:', score[1])\n"
      ],
      "execution_count": null,
      "outputs": [
        {
          "output_type": "stream",
          "text": [
            "Epoch 1/15\n",
            "469/469 [==============================] - 12s 26ms/step - loss: 0.7302 - accuracy: 0.7447 - val_loss: 0.4189 - val_accuracy: 0.8442\n",
            "Epoch 2/15\n",
            "469/469 [==============================] - 12s 25ms/step - loss: 0.3562 - accuracy: 0.8694 - val_loss: 0.3531 - val_accuracy: 0.8654\n",
            "Epoch 3/15\n",
            "469/469 [==============================] - 12s 25ms/step - loss: 0.3048 - accuracy: 0.8891 - val_loss: 0.3175 - val_accuracy: 0.8830\n",
            "Epoch 4/15\n",
            "469/469 [==============================] - 12s 25ms/step - loss: 0.2702 - accuracy: 0.8999 - val_loss: 0.2930 - val_accuracy: 0.8954\n",
            "Epoch 5/15\n",
            "469/469 [==============================] - 12s 25ms/step - loss: 0.2444 - accuracy: 0.9101 - val_loss: 0.2731 - val_accuracy: 0.9002\n",
            "Epoch 6/15\n",
            "469/469 [==============================] - 12s 25ms/step - loss: 0.2196 - accuracy: 0.9189 - val_loss: 0.2746 - val_accuracy: 0.9000\n",
            "Epoch 7/15\n",
            "469/469 [==============================] - 12s 25ms/step - loss: 0.2017 - accuracy: 0.9248 - val_loss: 0.2510 - val_accuracy: 0.9055\n",
            "Epoch 8/15\n",
            "469/469 [==============================] - 12s 25ms/step - loss: 0.1806 - accuracy: 0.9332 - val_loss: 0.2513 - val_accuracy: 0.9094\n",
            "Epoch 9/15\n",
            "469/469 [==============================] - 12s 25ms/step - loss: 0.1647 - accuracy: 0.9388 - val_loss: 0.2527 - val_accuracy: 0.9082\n",
            "Epoch 10/15\n",
            "469/469 [==============================] - 12s 25ms/step - loss: 0.1482 - accuracy: 0.9448 - val_loss: 0.2649 - val_accuracy: 0.9076\n",
            "Epoch 11/15\n",
            "469/469 [==============================] - 12s 25ms/step - loss: 0.1321 - accuracy: 0.9503 - val_loss: 0.2689 - val_accuracy: 0.9137\n",
            "Epoch 12/15\n",
            "469/469 [==============================] - 12s 25ms/step - loss: 0.1183 - accuracy: 0.9557 - val_loss: 0.2904 - val_accuracy: 0.9083\n",
            "Epoch 13/15\n",
            "469/469 [==============================] - 12s 25ms/step - loss: 0.1028 - accuracy: 0.9616 - val_loss: 0.2760 - val_accuracy: 0.9139\n",
            "Epoch 14/15\n",
            "469/469 [==============================] - 12s 25ms/step - loss: 0.0855 - accuracy: 0.9687 - val_loss: 0.2999 - val_accuracy: 0.9122\n",
            "Epoch 15/15\n",
            "469/469 [==============================] - 12s 25ms/step - loss: 0.0767 - accuracy: 0.9713 - val_loss: 0.2845 - val_accuracy: 0.9125\n",
            "Test loss: 0.2871411442756653\n",
            "Test accuracy: 0.9125000238418579\n"
          ],
          "name": "stdout"
        }
      ]
    },
    {
      "cell_type": "code",
      "metadata": {
        "id": "-4tALYDnZKBn",
        "colab_type": "code",
        "colab": {
          "base_uri": "https://localhost:8080/",
          "height": 468
        },
        "outputId": "4e569406-9d6c-4b83-8276-145222c89f33"
      },
      "source": [
        "model.summary()"
      ],
      "execution_count": null,
      "outputs": [
        {
          "output_type": "stream",
          "text": [
            "Model: \"sequential_11\"\n",
            "_________________________________________________________________\n",
            "Layer (type)                 Output Shape              Param #   \n",
            "=================================================================\n",
            "conv2d_186 (Conv2D)          (None, 28, 28, 32)        832       \n",
            "_________________________________________________________________\n",
            "conv2d_187 (Conv2D)          (None, 28, 28, 64)        51264     \n",
            "_________________________________________________________________\n",
            "max_pooling2d_52 (MaxPooling (None, 14, 14, 64)        0         \n",
            "_________________________________________________________________\n",
            "conv2d_188 (Conv2D)          (None, 14, 14, 96)        153696    \n",
            "_________________________________________________________________\n",
            "max_pooling2d_53 (MaxPooling (None, 7, 7, 96)          0         \n",
            "_________________________________________________________________\n",
            "conv2d_189 (Conv2D)          (None, 7, 7, 120)         288120    \n",
            "_________________________________________________________________\n",
            "flatten_19 (Flatten)         (None, 5880)              0         \n",
            "_________________________________________________________________\n",
            "dense_47 (Dense)             (None, 1024)              6022144   \n",
            "_________________________________________________________________\n",
            "dense_48 (Dense)             (None, 10)                10250     \n",
            "=================================================================\n",
            "Total params: 6,526,306\n",
            "Trainable params: 6,526,306\n",
            "Non-trainable params: 0\n",
            "_________________________________________________________________\n"
          ],
          "name": "stdout"
        }
      ]
    },
    {
      "cell_type": "code",
      "metadata": {
        "id": "PwoCwMO0id8z",
        "colab_type": "code",
        "colab": {
          "base_uri": "https://localhost:8080/",
          "height": 573
        },
        "outputId": "8845e240-c09a-464b-f154-e67d1c93c5ae"
      },
      "source": [
        "# Plot training & validation accuracy values\n",
        "plt.style.use('dark_background')\n",
        "plt.plot(hist.history['accuracy'])\n",
        "plt.plot(hist.history['val_accuracy'])\n",
        "plt.title('Model accuracy')\n",
        "plt.ylabel('Accuracy')\n",
        "plt.xlabel('Epoch')\n",
        "plt.legend(['Train', 'Test'], loc='upper left')\n",
        "plt.show()\n",
        "\n",
        "# Plot training & validation loss values\n",
        "plt.plot(hist.history['loss'])\n",
        "plt.plot(hist.history['val_loss'])\n",
        "plt.title('Model loss')\n",
        "plt.ylabel('Loss')\n",
        "plt.xlabel('Epoch')\n",
        "plt.legend(['Train', 'Test'], loc='upper left')\n",
        "plt.show()"
      ],
      "execution_count": null,
      "outputs": [
        {
          "output_type": "display_data",
          "data": {
            "image/png": "[encoded data removed]",
            "text/plain": [
              "<Figure size 432x288 with 1 Axes>"
            ]
          },
          "metadata": {
            "tags": []
          }
        },
        {
          "output_type": "display_data",
          "data": {
            "image/png": "[encoded data removed]",
            "text/plain": [
              "<Figure size 432x288 with 1 Axes>"
            ]
          },
          "metadata": {
            "tags": []
          }
        }
      ]
    },
    {
      "cell_type": "markdown",
      "metadata": {
        "id": "C696Nc4op4SJ",
        "colab_type": "text"
      },
      "source": [
        "### Basic CNN + ResNet_Module"
      ]
    },
    {
      "cell_type": "code",
      "metadata": {
        "id": "gRD9qXMZJLxt",
        "colab_type": "code",
        "colab": {}
      },
      "source": [
        "def residual_module(layer_in, n_filters):\n",
        "\tmerge_input = layer_in\n",
        "\tif layer_in.shape[-1] != n_filters:\n",
        "\t\tmerge_input = layers.Conv2D(n_filters, (1,1), padding='same', activation='relu', kernel_initializer='he_normal')(layer_in)\n",
        "\tconv1 = layers.Conv2D(n_filters, (3,3), padding='same', activation='relu', kernel_initializer='he_normal')(layer_in)\n",
        "\tconv2 = layers.Conv2D(n_filters, (3,3), padding='same', activation='linear', kernel_initializer='he_normal')(conv1)\n",
        "\tlayer_out = layers.add([conv2, merge_input])\n",
        "\tlayer_out = layers.Activation('relu')(layer_out)\n",
        "\treturn layer_out"
      ],
      "execution_count": null,
      "outputs": []
    },
    {
      "cell_type": "code",
      "metadata": {
        "id": "viYhZdkHiU0v",
        "colab_type": "code",
        "colab": {}
      },
      "source": [
        "def model_with_resnet(input_shape = (28,28,1)):\n",
        "  # first layer of CNN\n",
        "  x_input = layers.Input(input_shape)\n",
        "  x = layers.Conv2D(64, kernel_size=(3, 3), strides=(1, 1), padding=\"same\")(x_input)\n",
        "  x = layers.BatchNormalization(axis = 3)(x)\n",
        "  x = layers.Activation('relu')(x)\n",
        "  x = layers.MaxPool2D((2,2),strides = (1,1))(x)\n",
        "  # 3 layers of ResNet with different no of filters\n",
        "  x = residual_module(x,32)\n",
        "  x = residual_module(x,64)\n",
        "  x = residual_module(x,128)\n",
        "  x = layers.AveragePooling2D((2,2))(x)\n",
        "  x = layers.Flatten()(x)\n",
        "  x = layers.Dense(10,activation = \"softmax\")(x)\n",
        "  model = Model(inputs = x_input,outputs = x)\n",
        "  model.compile(optimizer='adam', loss='categorical_crossentropy', metrics=['accuracy'])\n",
        "  return model\n"
      ],
      "execution_count": null,
      "outputs": []
    },
    {
      "cell_type": "code",
      "metadata": {
        "id": "A-Hmeh80lYqH",
        "colab_type": "code",
        "colab": {
          "base_uri": "https://localhost:8080/",
          "height": 1000
        },
        "outputId": "4eea70af-91b4-47ba-b09b-fe85d9d5b266"
      },
      "source": [
        "model_res = model_with_resnet()\n",
        "hist = model_res.fit(x=x_train,y=y_train, epochs=15, batch_size=128, validation_data=(x_test, y_test), verbose=1)\n",
        "score_res = model_res.evaluate(x_test,y_test)\n",
        "print('Test loss with ResNet:', score_res[0])\n",
        "print('Test accuracy with ResNet:', score_res[1])\n",
        "model_res.summary()"
      ],
      "execution_count": null,
      "outputs": [
        {
          "output_type": "stream",
          "text": [
            "Epoch 1/15\n",
            "469/469 [==============================] - 36s 78ms/step - loss: 0.5375 - accuracy: 0.8376 - val_loss: 0.4293 - val_accuracy: 0.8814\n",
            "Epoch 2/15\n",
            "469/469 [==============================] - 36s 77ms/step - loss: 0.2618 - accuracy: 0.9053 - val_loss: 0.2966 - val_accuracy: 0.8964\n",
            "Epoch 3/15\n",
            "469/469 [==============================] - 36s 77ms/step - loss: 0.2229 - accuracy: 0.9193 - val_loss: 0.2430 - val_accuracy: 0.9130\n",
            "Epoch 4/15\n",
            "469/469 [==============================] - 36s 77ms/step - loss: 0.1971 - accuracy: 0.9296 - val_loss: 0.2546 - val_accuracy: 0.9098\n",
            "Epoch 5/15\n",
            "469/469 [==============================] - 36s 77ms/step - loss: 0.1735 - accuracy: 0.9366 - val_loss: 0.2407 - val_accuracy: 0.9135\n",
            "Epoch 6/15\n",
            "469/469 [==============================] - 36s 77ms/step - loss: 0.1559 - accuracy: 0.9433 - val_loss: 0.2511 - val_accuracy: 0.9125\n",
            "Epoch 7/15\n",
            "469/469 [==============================] - 36s 77ms/step - loss: 0.1388 - accuracy: 0.9491 - val_loss: 0.2607 - val_accuracy: 0.9092\n",
            "Epoch 8/15\n",
            "469/469 [==============================] - 36s 77ms/step - loss: 0.1231 - accuracy: 0.9543 - val_loss: 0.2511 - val_accuracy: 0.9146\n",
            "Epoch 9/15\n",
            "469/469 [==============================] - 36s 77ms/step - loss: 0.1108 - accuracy: 0.9588 - val_loss: 0.2403 - val_accuracy: 0.9226\n",
            "Epoch 10/15\n",
            "469/469 [==============================] - 36s 77ms/step - loss: 0.0947 - accuracy: 0.9651 - val_loss: 0.2755 - val_accuracy: 0.9155\n",
            "Epoch 11/15\n",
            "469/469 [==============================] - 36s 77ms/step - loss: 0.0843 - accuracy: 0.9692 - val_loss: 0.2718 - val_accuracy: 0.9168\n",
            "Epoch 12/15\n",
            "469/469 [==============================] - 36s 77ms/step - loss: 0.0728 - accuracy: 0.9726 - val_loss: 0.3102 - val_accuracy: 0.9161\n",
            "Epoch 13/15\n",
            "469/469 [==============================] - 36s 77ms/step - loss: 0.0653 - accuracy: 0.9755 - val_loss: 0.3410 - val_accuracy: 0.9135\n",
            "Epoch 14/15\n",
            "469/469 [==============================] - 36s 77ms/step - loss: 0.0579 - accuracy: 0.9784 - val_loss: 0.3283 - val_accuracy: 0.9223\n",
            "Epoch 15/15\n",
            "469/469 [==============================] - 36s 77ms/step - loss: 0.0497 - accuracy: 0.9816 - val_loss: 0.3783 - val_accuracy: 0.9168\n",
            "313/313 [==============================] - 3s 9ms/step - loss: 0.3697 - accuracy: 0.9168\n",
            "Test loss with ResNet: 0.36966726183891296\n",
            "Test accuracy with ResNet: 0.9168000221252441\n",
            "Model: \"model_12\"\n",
            "__________________________________________________________________________________________________\n",
            "Layer (type)                    Output Shape         Param #     Connected to                     \n",
            "==================================================================================================\n",
            "input_17 (InputLayer)           [(None, 28, 28, 1)]  0                                            \n",
            "__________________________________________________________________________________________________\n",
            "conv2d_210 (Conv2D)             (None, 28, 28, 64)   640         input_17[0][0]                   \n",
            "__________________________________________________________________________________________________\n",
            "batch_normalization_7 (BatchNor (None, 28, 28, 64)   256         conv2d_210[0][0]                 \n",
            "__________________________________________________________________________________________________\n",
            "activation_19 (Activation)      (None, 28, 28, 64)   0           batch_normalization_7[0][0]      \n",
            "__________________________________________________________________________________________________\n",
            "max_pooling2d_58 (MaxPooling2D) (None, 27, 27, 64)   0           activation_19[0][0]              \n",
            "__________________________________________________________________________________________________\n",
            "conv2d_212 (Conv2D)             (None, 27, 27, 32)   18464       max_pooling2d_58[0][0]           \n",
            "__________________________________________________________________________________________________\n",
            "conv2d_213 (Conv2D)             (None, 27, 27, 32)   9248        conv2d_212[0][0]                 \n",
            "__________________________________________________________________________________________________\n",
            "conv2d_211 (Conv2D)             (None, 27, 27, 32)   2080        max_pooling2d_58[0][0]           \n",
            "__________________________________________________________________________________________________\n",
            "add_12 (Add)                    (None, 27, 27, 32)   0           conv2d_213[0][0]                 \n",
            "                                                                 conv2d_211[0][0]                 \n",
            "__________________________________________________________________________________________________\n",
            "activation_20 (Activation)      (None, 27, 27, 32)   0           add_12[0][0]                     \n",
            "__________________________________________________________________________________________________\n",
            "conv2d_215 (Conv2D)             (None, 27, 27, 64)   18496       activation_20[0][0]              \n",
            "__________________________________________________________________________________________________\n",
            "conv2d_216 (Conv2D)             (None, 27, 27, 64)   36928       conv2d_215[0][0]                 \n",
            "__________________________________________________________________________________________________\n",
            "conv2d_214 (Conv2D)             (None, 27, 27, 64)   2112        activation_20[0][0]              \n",
            "__________________________________________________________________________________________________\n",
            "add_13 (Add)                    (None, 27, 27, 64)   0           conv2d_216[0][0]                 \n",
            "                                                                 conv2d_214[0][0]                 \n",
            "__________________________________________________________________________________________________\n",
            "activation_21 (Activation)      (None, 27, 27, 64)   0           add_13[0][0]                     \n",
            "__________________________________________________________________________________________________\n",
            "conv2d_218 (Conv2D)             (None, 27, 27, 128)  73856       activation_21[0][0]              \n",
            "__________________________________________________________________________________________________\n",
            "conv2d_219 (Conv2D)             (None, 27, 27, 128)  147584      conv2d_218[0][0]                 \n",
            "__________________________________________________________________________________________________\n",
            "conv2d_217 (Conv2D)             (None, 27, 27, 128)  8320        activation_21[0][0]              \n",
            "__________________________________________________________________________________________________\n",
            "add_14 (Add)                    (None, 27, 27, 128)  0           conv2d_219[0][0]                 \n",
            "                                                                 conv2d_217[0][0]                 \n",
            "__________________________________________________________________________________________________\n",
            "activation_22 (Activation)      (None, 27, 27, 128)  0           add_14[0][0]                     \n",
            "__________________________________________________________________________________________________\n",
            "average_pooling2d_11 (AveragePo (None, 13, 13, 128)  0           activation_22[0][0]              \n",
            "__________________________________________________________________________________________________\n",
            "flatten_21 (Flatten)            (None, 21632)        0           average_pooling2d_11[0][0]       \n",
            "__________________________________________________________________________________________________\n",
            "dense_52 (Dense)                (None, 10)           216330      flatten_21[0][0]                 \n",
            "==================================================================================================\n",
            "Total params: 534,314\n",
            "Trainable params: 534,186\n",
            "Non-trainable params: 128\n",
            "__________________________________________________________________________________________________\n"
          ],
          "name": "stdout"
        }
      ]
    },
    {
      "cell_type": "code",
      "metadata": {
        "id": "To0gu3wkjmWH",
        "colab_type": "code",
        "colab": {
          "base_uri": "https://localhost:8080/",
          "height": 573
        },
        "outputId": "5f4304da-1cd6-4153-fd77-d6b87e0cf78e"
      },
      "source": [
        "# Plot training & validation accuracy values\n",
        "plt.style.use('dark_background')\n",
        "plt.plot(hist.history['accuracy'])\n",
        "plt.plot(hist.history['val_accuracy'])\n",
        "plt.title('Model accuracy')\n",
        "plt.ylabel('Accuracy')\n",
        "plt.xlabel('Epoch')\n",
        "plt.legend(['Train', 'Test'], loc='upper left')\n",
        "plt.show()\n",
        "\n",
        "# Plot training & validation loss values\n",
        "plt.plot(hist.history['loss'])\n",
        "plt.plot(hist.history['val_loss'])\n",
        "plt.title('Model loss')\n",
        "plt.ylabel('Loss')\n",
        "plt.xlabel('Epoch')\n",
        "plt.legend(['Train', 'Test'], loc='upper left')\n",
        "plt.show()"
      ],
      "execution_count": null,
      "outputs": [
        {
          "output_type": "display_data",
          "data": {
            "image/png": "[encoded data removed]",
            "text/plain": [
              "<Figure size 432x288 with 1 Axes>"
            ]
          },
          "metadata": {
            "tags": []
          }
        },
        {
          "output_type": "display_data",
          "data": {
            "image/png": "[encoded data removed]",
            "text/plain": [
              "<Figure size 432x288 with 1 Axes>"
            ]
          },
          "metadata": {
            "tags": []
          }
        }
      ]
    },
    {
      "cell_type": "markdown",
      "metadata": {
        "id": "jmrKC5scpzbv",
        "colab_type": "text"
      },
      "source": [
        "### Basic CNN + Inception_Module"
      ]
    },
    {
      "cell_type": "code",
      "metadata": {
        "id": "LsgYoAQuWePa",
        "colab_type": "code",
        "colab": {}
      },
      "source": [
        "def inception_module(x,filter_1x1,filter_3x3_reduce,filter_3x3,filter_5x5_reduce,filter_5x5,filter_pool_proj):\n",
        "  conv_1x1 = layers.Conv2D(filter_1x1,(1,1),padding =\"same\",activation = \"relu\")(x)\n",
        "  conv_3x3 = layers.Conv2D(filter_3x3_reduce,(1,1),padding=\"same\",activation=\"relu\")(x)\n",
        "  conv_3x3 = layers.Conv2D(filter_3x3,(3,3),padding=\"same\",activation=\"relu\")(conv_3x3)\n",
        "  conv_5x5 = layers.Conv2D(filter_5x5_reduce,(1,1),padding=\"same\",activation=\"relu\")(x)\n",
        "  conv_5x5 = layers.Conv2D(filter_5x5,(5,5),padding=\"same\",activation=\"relu\")(conv_5x5)\n",
        "  pool_proj = layers.MaxPool2D((3,3),strides=(1,1),padding=\"same\")(x)\n",
        "  pool_proj = layers.Conv2D(filter_pool_proj,(1,1),padding=\"same\",activation=\"relu\")(pool_proj)\n",
        "  output_inception = layers.concatenate([conv_1x1,conv_3x3,conv_5x5,pool_proj],axis = 3)\n",
        "  return output_inception"
      ],
      "execution_count": null,
      "outputs": []
    },
    {
      "cell_type": "code",
      "metadata": {
        "id": "4so1iQs_ykHI",
        "colab_type": "code",
        "colab": {}
      },
      "source": [
        "def model_with_inception(input_shape = (28,28,1)):\n",
        "  x_input = layers.Input(input_shape)\n",
        "  x = layers.Conv2D(64,(3,3),strides = (2,2),padding=\"same\",activation=\"relu\")(x_input)\n",
        "  x = layers.MaxPool2D((3,3),strides=(2,2))(x)\n",
        "  x = inception_module(x,32,64,96,16,32,32)\n",
        "  x = inception_module(x,128,128,192,32,96,64)\n",
        "  x = inception_module(x,192,96,208,16,48,64)\n",
        "  x = layers.AveragePooling2D((5, 5), strides=(3,3))(x)\n",
        "  x = layers.Conv2D(128,(1,1),padding = \"same\",activation='relu')(x)\n",
        "  x = layers.Flatten()(x)\n",
        "  x = layers.Dense(1024,activation=\"relu\")(x)\n",
        "  x = layers.Dense(100,activation=\"relu\")(x)\n",
        "  x = layers.Dense(10,activation=\"softmax\")(x)\n",
        "  model = Model(inputs = x_input,outputs = x)\n",
        "  model.compile(optimizer='adam', loss='categorical_crossentropy', metrics=['accuracy'])\n",
        "  return model"
      ],
      "execution_count": null,
      "outputs": []
    },
    {
      "cell_type": "code",
      "metadata": {
        "id": "qhbhR9XVFae_",
        "colab_type": "code",
        "colab": {
          "base_uri": "https://localhost:8080/",
          "height": 572
        },
        "outputId": "5c0b2376-ca62-48da-e90e-6f17148f7948"
      },
      "source": [
        "model_inc = model_with_inception()\n",
        "hist = model_inc.fit(x=x_train,y=y_train, epochs=15, batch_size=128, validation_data=(x_test, y_test), verbose=1)\n",
        "score_inc = model_inc.evaluate(x_test, y_test, verbose=0)\n",
        "print('Test loss with Inception :', score_inc[0])\n",
        "print('Test accuracy with Inception :', score_inc[1])\n"
      ],
      "execution_count": null,
      "outputs": [
        {
          "output_type": "stream",
          "text": [
            "Epoch 1/15\n",
            "469/469 [==============================] - 11s 24ms/step - loss: 0.8047 - accuracy: 0.6863 - val_loss: 0.5660 - val_accuracy: 0.7706\n",
            "Epoch 2/15\n",
            "469/469 [==============================] - 11s 24ms/step - loss: 0.4741 - accuracy: 0.8218 - val_loss: 0.4251 - val_accuracy: 0.8434\n",
            "Epoch 3/15\n",
            "469/469 [==============================] - 11s 24ms/step - loss: 0.3714 - accuracy: 0.8636 - val_loss: 0.3719 - val_accuracy: 0.8663\n",
            "Epoch 4/15\n",
            "469/469 [==============================] - 11s 24ms/step - loss: 0.3199 - accuracy: 0.8815 - val_loss: 0.3588 - val_accuracy: 0.8658\n",
            "Epoch 5/15\n",
            "469/469 [==============================] - 11s 24ms/step - loss: 0.2942 - accuracy: 0.8916 - val_loss: 0.3161 - val_accuracy: 0.8868\n",
            "Epoch 6/15\n",
            "469/469 [==============================] - 11s 24ms/step - loss: 0.2691 - accuracy: 0.8999 - val_loss: 0.3038 - val_accuracy: 0.8883\n",
            "Epoch 7/15\n",
            "469/469 [==============================] - 11s 24ms/step - loss: 0.2482 - accuracy: 0.9083 - val_loss: 0.2821 - val_accuracy: 0.9011\n",
            "Epoch 8/15\n",
            "469/469 [==============================] - 11s 24ms/step - loss: 0.2276 - accuracy: 0.9153 - val_loss: 0.2830 - val_accuracy: 0.8958\n",
            "Epoch 9/15\n",
            "469/469 [==============================] - 11s 24ms/step - loss: 0.2120 - accuracy: 0.9212 - val_loss: 0.2764 - val_accuracy: 0.9019\n",
            "Epoch 10/15\n",
            "469/469 [==============================] - 11s 24ms/step - loss: 0.1962 - accuracy: 0.9269 - val_loss: 0.2783 - val_accuracy: 0.9013\n",
            "Epoch 11/15\n",
            "469/469 [==============================] - 11s 24ms/step - loss: 0.1822 - accuracy: 0.9326 - val_loss: 0.2825 - val_accuracy: 0.9043\n",
            "Epoch 12/15\n",
            "469/469 [==============================] - 11s 24ms/step - loss: 0.1718 - accuracy: 0.9367 - val_loss: 0.2972 - val_accuracy: 0.9001\n",
            "Epoch 13/15\n",
            "469/469 [==============================] - 11s 24ms/step - loss: 0.1546 - accuracy: 0.9428 - val_loss: 0.3086 - val_accuracy: 0.8992\n",
            "Epoch 14/15\n",
            "469/469 [==============================] - 11s 24ms/step - loss: 0.1443 - accuracy: 0.9456 - val_loss: 0.3042 - val_accuracy: 0.9021\n",
            "Epoch 15/15\n",
            "469/469 [==============================] - 11s 24ms/step - loss: 0.1329 - accuracy: 0.9506 - val_loss: 0.2970 - val_accuracy: 0.9040\n",
            "Test loss with Inception : 0.2966063916683197\n",
            "Test accuracy with Inception : 0.9039999842643738\n"
          ],
          "name": "stdout"
        }
      ]
    },
    {
      "cell_type": "code",
      "metadata": {
        "id": "qeQBdDLWiaL1",
        "colab_type": "code",
        "colab": {
          "base_uri": "https://localhost:8080/",
          "height": 1000
        },
        "outputId": "a4f47db2-219e-4507-d97e-2e8736ceaa9a"
      },
      "source": [
        "model_inc.summary()"
      ],
      "execution_count": null,
      "outputs": [
        {
          "output_type": "stream",
          "text": [
            "Model: \"model_11\"\n",
            "__________________________________________________________________________________________________\n",
            "Layer (type)                    Output Shape         Param #     Connected to                     \n",
            "==================================================================================================\n",
            "input_16 (InputLayer)           [(None, 28, 28, 1)]  0                                            \n",
            "__________________________________________________________________________________________________\n",
            "conv2d_190 (Conv2D)             (None, 14, 14, 64)   640         input_16[0][0]                   \n",
            "__________________________________________________________________________________________________\n",
            "max_pooling2d_54 (MaxPooling2D) (None, 6, 6, 64)     0           conv2d_190[0][0]                 \n",
            "__________________________________________________________________________________________________\n",
            "conv2d_192 (Conv2D)             (None, 6, 6, 64)     4160        max_pooling2d_54[0][0]           \n",
            "__________________________________________________________________________________________________\n",
            "conv2d_194 (Conv2D)             (None, 6, 6, 16)     1040        max_pooling2d_54[0][0]           \n",
            "__________________________________________________________________________________________________\n",
            "max_pooling2d_55 (MaxPooling2D) (None, 6, 6, 64)     0           max_pooling2d_54[0][0]           \n",
            "__________________________________________________________________________________________________\n",
            "conv2d_191 (Conv2D)             (None, 6, 6, 32)     2080        max_pooling2d_54[0][0]           \n",
            "__________________________________________________________________________________________________\n",
            "conv2d_193 (Conv2D)             (None, 6, 6, 96)     55392       conv2d_192[0][0]                 \n",
            "__________________________________________________________________________________________________\n",
            "conv2d_195 (Conv2D)             (None, 6, 6, 32)     12832       conv2d_194[0][0]                 \n",
            "__________________________________________________________________________________________________\n",
            "conv2d_196 (Conv2D)             (None, 6, 6, 32)     2080        max_pooling2d_55[0][0]           \n",
            "__________________________________________________________________________________________________\n",
            "concatenate_18 (Concatenate)    (None, 6, 6, 192)    0           conv2d_191[0][0]                 \n",
            "                                                                 conv2d_193[0][0]                 \n",
            "                                                                 conv2d_195[0][0]                 \n",
            "                                                                 conv2d_196[0][0]                 \n",
            "__________________________________________________________________________________________________\n",
            "conv2d_198 (Conv2D)             (None, 6, 6, 128)    24704       concatenate_18[0][0]             \n",
            "__________________________________________________________________________________________________\n",
            "conv2d_200 (Conv2D)             (None, 6, 6, 32)     6176        concatenate_18[0][0]             \n",
            "__________________________________________________________________________________________________\n",
            "max_pooling2d_56 (MaxPooling2D) (None, 6, 6, 192)    0           concatenate_18[0][0]             \n",
            "__________________________________________________________________________________________________\n",
            "conv2d_197 (Conv2D)             (None, 6, 6, 128)    24704       concatenate_18[0][0]             \n",
            "__________________________________________________________________________________________________\n",
            "conv2d_199 (Conv2D)             (None, 6, 6, 192)    221376      conv2d_198[0][0]                 \n",
            "__________________________________________________________________________________________________\n",
            "conv2d_201 (Conv2D)             (None, 6, 6, 96)     76896       conv2d_200[0][0]                 \n",
            "__________________________________________________________________________________________________\n",
            "conv2d_202 (Conv2D)             (None, 6, 6, 64)     12352       max_pooling2d_56[0][0]           \n",
            "__________________________________________________________________________________________________\n",
            "concatenate_19 (Concatenate)    (None, 6, 6, 480)    0           conv2d_197[0][0]                 \n",
            "                                                                 conv2d_199[0][0]                 \n",
            "                                                                 conv2d_201[0][0]                 \n",
            "                                                                 conv2d_202[0][0]                 \n",
            "__________________________________________________________________________________________________\n",
            "conv2d_204 (Conv2D)             (None, 6, 6, 96)     46176       concatenate_19[0][0]             \n",
            "__________________________________________________________________________________________________\n",
            "conv2d_206 (Conv2D)             (None, 6, 6, 16)     7696        concatenate_19[0][0]             \n",
            "__________________________________________________________________________________________________\n",
            "max_pooling2d_57 (MaxPooling2D) (None, 6, 6, 480)    0           concatenate_19[0][0]             \n",
            "__________________________________________________________________________________________________\n",
            "conv2d_203 (Conv2D)             (None, 6, 6, 192)    92352       concatenate_19[0][0]             \n",
            "__________________________________________________________________________________________________\n",
            "conv2d_205 (Conv2D)             (None, 6, 6, 208)    179920      conv2d_204[0][0]                 \n",
            "__________________________________________________________________________________________________\n",
            "conv2d_207 (Conv2D)             (None, 6, 6, 48)     19248       conv2d_206[0][0]                 \n",
            "__________________________________________________________________________________________________\n",
            "conv2d_208 (Conv2D)             (None, 6, 6, 64)     30784       max_pooling2d_57[0][0]           \n",
            "__________________________________________________________________________________________________\n",
            "concatenate_20 (Concatenate)    (None, 6, 6, 512)    0           conv2d_203[0][0]                 \n",
            "                                                                 conv2d_205[0][0]                 \n",
            "                                                                 conv2d_207[0][0]                 \n",
            "                                                                 conv2d_208[0][0]                 \n",
            "__________________________________________________________________________________________________\n",
            "average_pooling2d_10 (AveragePo (None, 1, 1, 512)    0           concatenate_20[0][0]             \n",
            "__________________________________________________________________________________________________\n",
            "conv2d_209 (Conv2D)             (None, 1, 1, 128)    65664       average_pooling2d_10[0][0]       \n",
            "__________________________________________________________________________________________________\n",
            "flatten_20 (Flatten)            (None, 128)          0           conv2d_209[0][0]                 \n",
            "__________________________________________________________________________________________________\n",
            "dense_49 (Dense)                (None, 1024)         132096      flatten_20[0][0]                 \n",
            "__________________________________________________________________________________________________\n",
            "dense_50 (Dense)                (None, 100)          102500      dense_49[0][0]                   \n",
            "__________________________________________________________________________________________________\n",
            "dense_51 (Dense)                (None, 10)           1010        dense_50[0][0]                   \n",
            "==================================================================================================\n",
            "Total params: 1,121,878\n",
            "Trainable params: 1,121,878\n",
            "Non-trainable params: 0\n",
            "__________________________________________________________________________________________________\n"
          ],
          "name": "stdout"
        }
      ]
    },
    {
      "cell_type": "markdown",
      "metadata": {
        "id": "rcvoxxa5prDX",
        "colab_type": "text"
      },
      "source": [
        "### Comparison on HW_2 best architecture"
      ]
    },
    {
      "cell_type": "code",
      "metadata": {
        "id": "-oBGj-bBbyYx",
        "colab_type": "code",
        "colab": {}
      },
      "source": [
        "def ANN_simple():\n",
        "  input_dim = 784\n",
        "  num_classes = 10\n",
        "  model = Sequential()\n",
        "  model.add(layers.Dense(185,input_shape = (input_dim,),activation=\"relu\"))\n",
        "  model.add(layers.Dense(84,activation=\"relu\"))\n",
        "  model.add(layers.Dense(60,activation=\"relu\"))\n",
        "  model.add(layers.Dense(70,activation=\"relu\"))\n",
        "  model.add(layers.Dense(num_classes,activation=\"softmax\"))\n",
        "  model.compile(optimizer='adam',loss='categorical_crossentropy',metrics=['accuracy'])\n",
        "  return model"
      ],
      "execution_count": null,
      "outputs": []
    },
    {
      "cell_type": "code",
      "metadata": {
        "id": "pWJNPbUaOVjE",
        "colab_type": "code",
        "colab": {}
      },
      "source": [
        "(X_train_n, y_train_n), (X_test_n, y_test_n) = fashion_mnist.load_data()\n",
        "X_train_n = X_train_n.reshape(60000, 28*28)\n",
        "X_test_n  = X_test_n.reshape(10000, 28*28)\n",
        "X_train_n = X_train_n.astype('float32') \n",
        "X_test_n  = X_test_n.astype('float32')\n",
        "X_train_n /= 255\n",
        "X_test_n  /= 255\n",
        "y_train_n = to_categorical(y_train_n)\n",
        "y_test_n =  to_categorical(y_test_n) \n"
      ],
      "execution_count": null,
      "outputs": []
    },
    {
      "cell_type": "code",
      "metadata": {
        "id": "18gQBICKmFsV",
        "colab_type": "code",
        "colab": {
          "base_uri": "https://localhost:8080/",
          "height": 849
        },
        "outputId": "a752e67d-b873-401a-d4c0-1cfbf843ab0f"
      },
      "source": [
        "model_ann = ANN_simple()\n",
        "history = model_ann.fit(X_train_n,y_train_n,batch_size=128,epochs = 15,validation_data=(X_test_n, y_test_n))\n",
        "model_ann.summary()"
      ],
      "execution_count": null,
      "outputs": [
        {
          "output_type": "stream",
          "text": [
            "Epoch 1/15\n",
            "469/469 [==============================] - 1s 3ms/step - loss: 0.5582 - accuracy: 0.8014 - val_loss: 0.4493 - val_accuracy: 0.8375\n",
            "Epoch 2/15\n",
            "469/469 [==============================] - 1s 3ms/step - loss: 0.3827 - accuracy: 0.8612 - val_loss: 0.3742 - val_accuracy: 0.8649\n",
            "Epoch 3/15\n",
            "469/469 [==============================] - 1s 3ms/step - loss: 0.3405 - accuracy: 0.8747 - val_loss: 0.3763 - val_accuracy: 0.8631\n",
            "Epoch 4/15\n",
            "469/469 [==============================] - 1s 3ms/step - loss: 0.3149 - accuracy: 0.8833 - val_loss: 0.3470 - val_accuracy: 0.8751\n",
            "Epoch 5/15\n",
            "469/469 [==============================] - 1s 3ms/step - loss: 0.2973 - accuracy: 0.8885 - val_loss: 0.3583 - val_accuracy: 0.8703\n",
            "Epoch 6/15\n",
            "469/469 [==============================] - 1s 3ms/step - loss: 0.2811 - accuracy: 0.8954 - val_loss: 0.3509 - val_accuracy: 0.8736\n",
            "Epoch 7/15\n",
            "469/469 [==============================] - 1s 3ms/step - loss: 0.2698 - accuracy: 0.9004 - val_loss: 0.3559 - val_accuracy: 0.8730\n",
            "Epoch 8/15\n",
            "469/469 [==============================] - 1s 3ms/step - loss: 0.2618 - accuracy: 0.9010 - val_loss: 0.3314 - val_accuracy: 0.8839\n",
            "Epoch 9/15\n",
            "469/469 [==============================] - 1s 3ms/step - loss: 0.2495 - accuracy: 0.9056 - val_loss: 0.3397 - val_accuracy: 0.8808\n",
            "Epoch 10/15\n",
            "469/469 [==============================] - 1s 3ms/step - loss: 0.2421 - accuracy: 0.9083 - val_loss: 0.3350 - val_accuracy: 0.8781\n",
            "Epoch 11/15\n",
            "469/469 [==============================] - 1s 3ms/step - loss: 0.2371 - accuracy: 0.9098 - val_loss: 0.3306 - val_accuracy: 0.8820\n",
            "Epoch 12/15\n",
            "469/469 [==============================] - 1s 3ms/step - loss: 0.2283 - accuracy: 0.9143 - val_loss: 0.3455 - val_accuracy: 0.8781\n",
            "Epoch 13/15\n",
            "469/469 [==============================] - 1s 3ms/step - loss: 0.2206 - accuracy: 0.9166 - val_loss: 0.3412 - val_accuracy: 0.8862\n",
            "Epoch 14/15\n",
            "469/469 [==============================] - 1s 3ms/step - loss: 0.2157 - accuracy: 0.9171 - val_loss: 0.3202 - val_accuracy: 0.8902\n",
            "Epoch 15/15\n",
            "469/469 [==============================] - 1s 3ms/step - loss: 0.2078 - accuracy: 0.9214 - val_loss: 0.3329 - val_accuracy: 0.8840\n",
            "Model: \"sequential_8\"\n",
            "_________________________________________________________________\n",
            "Layer (type)                 Output Shape              Param #   \n",
            "=================================================================\n",
            "dense_28 (Dense)             (None, 185)               145225    \n",
            "_________________________________________________________________\n",
            "dense_29 (Dense)             (None, 84)                15624     \n",
            "_________________________________________________________________\n",
            "dense_30 (Dense)             (None, 60)                5100      \n",
            "_________________________________________________________________\n",
            "dense_31 (Dense)             (None, 70)                4270      \n",
            "_________________________________________________________________\n",
            "dense_32 (Dense)             (None, 10)                710       \n",
            "=================================================================\n",
            "Total params: 170,929\n",
            "Trainable params: 170,929\n",
            "Non-trainable params: 0\n",
            "_________________________________________________________________\n"
          ],
          "name": "stdout"
        }
      ]
    },
    {
      "cell_type": "code",
      "metadata": {
        "id": "eStVJhSVmj6j",
        "colab_type": "code",
        "colab": {
          "base_uri": "https://localhost:8080/",
          "height": 69
        },
        "outputId": "59469a0c-ff29-44a6-83b3-47c03338f6a0"
      },
      "source": [
        "score_ann = model_ann.evaluate(X_test,y_test)\n",
        "print(\"Test_results_Loss : \", score_ann[0])\n",
        "print(\"Test_results_Accuracy : \", score_ann[1])"
      ],
      "execution_count": null,
      "outputs": [
        {
          "output_type": "stream",
          "text": [
            "313/313 [==============================] - 1s 2ms/step - loss: 0.3327 - accuracy: 0.8840\n",
            "Test_results_Loss :  0.3326632082462311\n",
            "Test_results_Accuracy :  0.8840000033378601\n"
          ],
          "name": "stdout"
        }
      ]
    },
    {
      "cell_type": "code",
      "metadata": {
        "id": "4FUSnwis5ZOS",
        "colab_type": "code",
        "colab": {}
      },
      "source": [
        "from google.colab import data_table\n",
        "import pandas as pd\n",
        "Architecture = ['Basic CNN',\"CNN with ResNet\",\"CNN with Inception\",\"Homework-2 Best Architecture\"]\n",
        "Number_of_layers = [\"4 convolution layers\",\"1 convolution + 3 Residual Layers\",\"2 convolution + 3 inception layer\",\"4 Densely Connected Layers\"]\n",
        "Trainable_param = ['6,526,326','534,186','1,121,878','170,929']\n",
        "Training_accuracy = ['97.13 %','98.98 %','95.40 %','92.14 %']\n",
        "Validation_accuracy = ['91.25 %','92.05 %','90.40 %','88.40 %']\n",
        "results_table = pd.DataFrame({\n",
        "    'Architecture':Architecture,\n",
        "    'Number of Layers': Number_of_layers,\n",
        "    'Trainable parameter': Trainable_param,\n",
        "    'Training Accuracy':Training_accuracy,\n",
        "    'Validation Accuracy': Validation_accuracy    \n",
        "})"
      ],
      "execution_count": null,
      "outputs": []
    },
    {
      "cell_type": "code",
      "metadata": {
        "id": "_vPZxd-m76Fe",
        "colab_type": "code",
        "colab": {
          "base_uri": "https://localhost:8080/",
          "height": 173
        },
        "outputId": "4dff81ca-ab47-4820-9b36-5a7f93c0d2ef"
      },
      "source": [
        "data_table.DataTable(results_table,num_rows_per_page=4)"
      ],
      "execution_count": null,
      "outputs": [
        {
          "output_type": "execute_result",
          "data": {
            "application/vnd.google.colaboratory.module+javascript": "\n      import \"https://ssl.gstatic.com/colaboratory/data_table/84ef27dae82052e3/data_table.js\";\n\n      window.createDataTable({\n        data: [[{\n            'v': 0,\n            'f': \"0\",\n        },\n\"Basic CNN\",\n\"4 convolution layers\",\n\"6,526,326\",\n\"97.13 %\",\n\"91.25 %\"],\n [{\n            'v': 1,\n            'f': \"1\",\n        },\n\"CNN with ResNet\",\n\"1 convolution + 3 Residual Layers\",\n\"534,186\",\n\"98.98 %\",\n\"92.05 %\"],\n [{\n            'v': 2,\n            'f': \"2\",\n        },\n\"CNN with Inception\",\n\"2 convolution + 3 inception layer\",\n\"1,121,878\",\n\"95.40 %\",\n\"90.40 %\"],\n [{\n            'v': 3,\n            'f': \"3\",\n        },\n\"Homework-2 Best Architecture\",\n\"4 Densely Connected Layers\",\n\"170,929\",\n\"92.14 %\",\n\"88.40 %\"]],\n        columns: [[\"number\", \"index\"], [\"string\", \"Architecture\"], [\"string\", \"Number of Layers\"], [\"string\", \"Trainable parameter\"], [\"string\", \"Training Accuracy\"], [\"string\", \"Validation Accuracy\"]],\n        columnOptions: [{\"width\": \"1px\", \"className\": \"index_column\"}],\n        rowsPerPage: 4,\n        helpUrl: \"https://colab.research.google.com/notebooks/data_table.ipynb\",\n        suppressOutputScrolling: true,\n      });\n    ",
            "text/plain": [
              "<google.colab.data_table.DataTable object>"
            ],
            "text/html": [
              "<div>\n",
              "<style scoped>\n",
              "    .dataframe tbody tr th:only-of-type {\n",
              "        vertical-align: middle;\n",
              "    }\n",
              "\n",
              "    .dataframe tbody tr th {\n",
              "        vertical-align: top;\n",
              "    }\n",
              "\n",
              "    .dataframe thead th {\n",
              "        text-align: right;\n",
              "    }\n",
              "</style>\n",
              "<table border=\"1\" class=\"dataframe\">\n",
              "  <thead>\n",
              "    <tr style=\"text-align: right;\">\n",
              "      <th></th>\n",
              "      <th>Architecture</th>\n",
              "      <th>Number of Layers</th>\n",
              "      <th>Trainable parameter</th>\n",
              "      <th>Training Accuracy</th>\n",
              "      <th>Validation Accuracy</th>\n",
              "    </tr>\n",
              "  </thead>\n",
              "  <tbody>\n",
              "    <tr>\n",
              "      <th>0</th>\n",
              "      <td>Basic CNN</td>\n",
              "      <td>4 convolution layers</td>\n",
              "      <td>6,526,326</td>\n",
              "      <td>97.13 %</td>\n",
              "      <td>91.25 %</td>\n",
              "    </tr>\n",
              "    <tr>\n",
              "      <th>1</th>\n",
              "      <td>CNN with ResNet</td>\n",
              "      <td>1 convolution + 3 Residual Layers</td>\n",
              "      <td>534,186</td>\n",
              "      <td>98.98 %</td>\n",
              "      <td>92.05 %</td>\n",
              "    </tr>\n",
              "    <tr>\n",
              "      <th>2</th>\n",
              "      <td>CNN with Inception</td>\n",
              "      <td>2 convolution + 3 inception layer</td>\n",
              "      <td>1,121,878</td>\n",
              "      <td>95.40 %</td>\n",
              "      <td>90.40 %</td>\n",
              "    </tr>\n",
              "    <tr>\n",
              "      <th>3</th>\n",
              "      <td>Homework-2 Best Architecture</td>\n",
              "      <td>4 Densely Connected Layers</td>\n",
              "      <td>170,929</td>\n",
              "      <td>92.14 %</td>\n",
              "      <td>88.40 %</td>\n",
              "    </tr>\n",
              "  </tbody>\n",
              "</table>\n",
              "</div>"
            ]
          },
          "metadata": {
            "tags": []
          },
          "execution_count": 102
        }
      ]
    },
    {
      "cell_type": "markdown",
      "metadata": {
        "id": "FATgX4XlzFmJ",
        "colab_type": "text"
      },
      "source": [
        "### Conclusion "
      ]
    },
    {
      "cell_type": "markdown",
      "metadata": {
        "id": "gqCdOX4AzMPM",
        "colab_type": "text"
      },
      "source": [
        "- **Comparison with HomeWork - 2 Best Architecture** : CNN gives significantly better performance as convolution layers detects the complex patterns in the images compared to ANN architecture\n",
        "- **Comparison of CNN Architecture** - Out of the 3 architecture given in the table above ResNet performs better with residual layers and less number of trainable parameters"
      ]
    },
    {
      "cell_type": "code",
      "metadata": {
        "id": "efQ-Ks06zPnH",
        "colab_type": "code",
        "colab": {
          "base_uri": "https://localhost:8080/",
          "height": 35
        },
        "outputId": "99bfbefb-3b98-4488-e224-75c2ee21091c"
      },
      "source": [
        ""
      ],
      "execution_count": null,
      "outputs": [
        {
          "output_type": "display_data",
          "data": {
            "image/png": "homework-3.PNG",
            "text/plain": [
              "<IPython.core.display.Image object>"
            ]
          },
          "metadata": {
            "tags": []
          }
        }
      ]
    },
    {
      "cell_type": "code",
      "metadata": {
        "id": "oYpPjkwW47aM",
        "colab_type": "code",
        "colab": {}
      },
      "source": [
        ""
      ],
      "execution_count": null,
      "outputs": []
    }
  ]
}