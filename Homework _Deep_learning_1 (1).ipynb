{
 "cells": [
  {
   "cell_type": "markdown",
   "metadata": {
    "colab_type": "text",
    "id": "7VXge9kYFPla"
   },
   "source": [
    "## **Write down the code for Logistic Regression Training and Prediction** (20 points)\n",
    "\n",
    "`It should work for any given data given features and class label\n",
    "\n",
    "## **More details below**\n",
    "\n"
   ]
  },
  {
   "cell_type": "code",
   "execution_count": 25,
   "metadata": {
    "colab": {},
    "colab_type": "code",
    "id": "P8z-WKOwHeiu"
   },
   "outputs": [],
   "source": [
    "import numpy as np\n",
    "import pandas as pd\n",
    "from sklearn.linear_model import LogisticRegression\n",
    "from sklearn.datasets import load_iris\n",
    "from sklearn.model_selection import train_test_split\n",
    "import math\n",
    "from numpy import *\n",
    "import matplotlib.pyplot as plt \n",
    "import random"
   ]
  },
  {
   "cell_type": "markdown",
   "metadata": {
    "colab_type": "text",
    "id": "8WvgfwPPI6h3"
   },
   "source": [
    "### **Iris Dataset (Sample Dataset)**\n",
    "Popular classification dataset with 3 classes; setosa, virginica and versicolor.\n",
    "\n",
    "We will choose 2 of the classes for the sample dataset\n",
    "\n",
    "```\n",
    "https://en.wikipedia.org/wiki/Iris_flower_data_set\n",
    "```\n",
    "\n"
   ]
  },
  {
   "cell_type": "code",
   "execution_count": 26,
   "metadata": {
    "colab": {},
    "colab_type": "code",
    "id": "1xrjwZi1H905"
   },
   "outputs": [],
   "source": [
    "iris_data = load_iris(return_X_y=False)"
   ]
  },
  {
   "cell_type": "code",
   "execution_count": 27,
   "metadata": {
    "colab": {},
    "colab_type": "code",
    "id": "EwWdbdFQIR79"
   },
   "outputs": [],
   "source": [
    "df_iris = pd.DataFrame(data= np.c_[iris_data['data'], iris_data['target']],\n",
    "                     columns= iris_data['feature_names'] + ['target'])"
   ]
  },
  {
   "cell_type": "code",
   "execution_count": 28,
   "metadata": {
    "colab": {
     "base_uri": "https://localhost:8080/",
     "height": 204
    },
    "colab_type": "code",
    "executionInfo": {
     "elapsed": 324,
     "status": "ok",
     "timestamp": 1579579421538,
     "user": {
      "displayName": "Kanchana Padmanabhan",
      "photoUrl": "",
      "userId": "16906781817953159303"
     },
     "user_tz": 300
    },
    "id": "Aid-Q4pWIvSA",
    "outputId": "1b4c935b-af70-4df8-a235-1691b067339b"
   },
   "outputs": [
    {
     "data": {
      "text/plain": [
       "(150, 5)"
      ]
     },
     "execution_count": 28,
     "metadata": {},
     "output_type": "execute_result"
    }
   ],
   "source": [
    "df_iris.shape"
   ]
  },
  {
   "cell_type": "code",
   "execution_count": 29,
   "metadata": {
    "colab": {
     "base_uri": "https://localhost:8080/",
     "height": 34
    },
    "colab_type": "code",
    "executionInfo": {
     "elapsed": 842,
     "status": "ok",
     "timestamp": 1579579426171,
     "user": {
      "displayName": "Kanchana Padmanabhan",
      "photoUrl": "",
      "userId": "16906781817953159303"
     },
     "user_tz": 300
    },
    "id": "aEgvhp01Ixac",
    "outputId": "a918e14f-f924-4509-92b2-8375c2266bea"
   },
   "outputs": [
    {
     "data": {
      "text/plain": [
       "array([0., 1.])"
      ]
     },
     "execution_count": 29,
     "metadata": {},
     "output_type": "execute_result"
    }
   ],
   "source": [
    "# Let's choose two of the classes; 'setosa', 'versicolor'; class 0 and class 1\n",
    "df_iris_sample = df_iris[df_iris[\"target\"] != 2]\n",
    "df_iris_sample[\"target\"].unique()"
   ]
  },
  {
   "cell_type": "code",
   "execution_count": 30,
   "metadata": {
    "colab": {
     "base_uri": "https://localhost:8080/",
     "height": 68
    },
    "colab_type": "code",
    "executionInfo": {
     "elapsed": 642,
     "status": "ok",
     "timestamp": 1579579427196,
     "user": {
      "displayName": "Kanchana Padmanabhan",
      "photoUrl": "",
      "userId": "16906781817953159303"
     },
     "user_tz": 300
    },
    "id": "j-pRBUiTJ3bT",
    "outputId": "06ae64e7-8c29-4d76-a7a1-00e61c4178c2"
   },
   "outputs": [
    {
     "data": {
      "text/plain": [
       "Index(['sepal length (cm)', 'sepal width (cm)', 'petal length (cm)',\n",
       "       'petal width (cm)', 'target'],\n",
       "      dtype='object')"
      ]
     },
     "execution_count": 30,
     "metadata": {},
     "output_type": "execute_result"
    }
   ],
   "source": [
    "df_iris_sample.columns"
   ]
  },
  {
   "cell_type": "code",
   "execution_count": 34,
   "metadata": {},
   "outputs": [],
   "source": [
    "df_iris_sample = df_iris[df_iris[\"target\"] != 0].copy()\n",
    "df_iris_sample[\"target\"].unique()\n",
    "df_iris_sample.loc[df_iris_sample['target'] == 1.0,'target'] = 0.0\n",
    "df_iris_sample.loc[df_iris_sample['target'] == 2.0,'target'] = 1.0"
   ]
  },
  {
   "cell_type": "code",
   "execution_count": 35,
   "metadata": {},
   "outputs": [],
   "source": [
    "X = df_iris_sample[['sepal length (cm)', 'sepal width (cm)', 'petal length (cm)',\n",
    "       'petal width (cm)']].to_numpy()\n",
    "y = df_iris_sample[['target']].to_numpy().ravel()"
   ]
  },
  {
   "cell_type": "markdown",
   "metadata": {},
   "source": [
    "### dividing into training and testing with 70-30 ratio"
   ]
  },
  {
   "cell_type": "code",
   "execution_count": 36,
   "metadata": {},
   "outputs": [],
   "source": [
    "x_train,x_test,y_train,y_test = train_test_split(X,y,test_size = 0.3)"
   ]
  },
  {
   "cell_type": "markdown",
   "metadata": {
    "colab_type": "text",
    "id": "5CKt-zQYLl-a"
   },
   "source": [
    "## Your Logistic Regression Function from scratch (20 points)\n",
    "\n",
    "You will write two main functions  one for training and one for prediction. \n",
    "Split data into test and training. Use training dataset to build model and measure the performance of your model on your test dataset. **(3 points)**\n",
    "\n",
    "### **(A) Training** **(15 points)**\n",
    "\n",
    "```\n",
    "def logistic_regression_training(X, y, max_iter=1000, alpha=0.01, tol=1e-4):\n",
    "  \"\"\" \n",
    "  Function to Train a Logistic Regression \n",
    "\n",
    "  Parameters: \n",
    "  X: numpy.ndarray of shape (n_samples, n_features)\n",
    "      Training vector, where n_samples is the number of samples and n_features is the number of features.\n",
    "  y: numpy.ndarray (n_samples,)\n",
    "      Target vector relative to X.\n",
    "  max_iter: int, default=100 \n",
    "      Maximum number of iterations taken to converge.\n",
    "  alpha: float, default=0.01\n",
    "    Learning parameter\n",
    "  tol: float, default=1e-4\n",
    "  Returns: \n",
    "    numpy.ndarray of shape (n_features, 1)\n",
    "    float\n",
    "  \"\"\"\n",
    "```\n",
    "  1. Initialize W and b to some random numbers (Anything other than 0.0)\n",
    "  2. Repeat until convergence\n",
    "  > 1. Use current w and b to compute predictions for all datapoints -> Forward Propagation** (5 points)\n",
    "  > 2. Use predictions to compute current cost J(w, b) **-> Compute Cost Function (5 points)\n",
    "  > 3. Adjust parameters w and b that can reduce cost --> BackPropagation + Gradient Descent (5 points)\n",
    "  3. Return the weights for each of the input features + bias term\n",
    "  ```\n",
    "  return W, b\n",
    "```\n",
    "\n",
    "\n",
    "#### **Note:**\n",
    "\n",
    "Make sure you can plot your iterations vs. training_error to see how gradient descent algorithm reduced the training error at each iteration\n",
    "\n",
    "\n",
    "### **(B) Prediction** **(2 points)**\n",
    "```\n",
    "def logistic_regression_predict(x, W, b): \n",
    "    \"\"\" \n",
    "    Function to Predict using Logistic Regression \n",
    "\n",
    "    Parameters: \n",
    "    x: numpy.ndarray of shape (1, n_features)\n",
    "        Vector for prediction, where n_features is the number of features.\n",
    "    W: numpy.ndarray of shape (n_features, 1)\n",
    "      Weights obtained from Logistic training\n",
    "    b: float\n",
    "      bias term\n",
    "    Returns: \n",
    "     float\n",
    "    \"\"\"\n",
    "  return prediction_probability\n",
    "```\n"
   ]
  },
  {
   "cell_type": "markdown",
   "metadata": {},
   "source": [
    "### Function to return the sigmoid of linear combination"
   ]
  },
  {
   "cell_type": "code",
   "execution_count": 37,
   "metadata": {},
   "outputs": [],
   "source": [
    "def sigmoid(z):\n",
    "    return (1/(1+np.exp(-z)))\n",
    "    "
   ]
  },
  {
   "cell_type": "markdown",
   "metadata": {},
   "source": [
    "### Function to Implement Back Propagation"
   ]
  },
  {
   "cell_type": "code",
   "execution_count": 38,
   "metadata": {},
   "outputs": [],
   "source": [
    "def Back_propogation(predicted,actual,X):\n",
    "    grad = predicted - actual\n",
    "    dw = np.dot(X.T,grad)/X.shape[0]\n",
    "    db = np.average(grad)\n",
    "    return dw,db"
   ]
  },
  {
   "cell_type": "markdown",
   "metadata": {},
   "source": [
    "### Function for determining the cost at each iteration"
   ]
  },
  {
   "cell_type": "code",
   "execution_count": 39,
   "metadata": {
    "colab": {},
    "colab_type": "code",
    "id": "zWp0mBlMFMVe"
   },
   "outputs": [],
   "source": [
    "def cost_function(y,a):\n",
    "    return -np.mean(y * np.log(a) + (1-y) * np.log(np.array(1) - a))\n",
    "\n",
    "        "
   ]
  },
  {
   "cell_type": "markdown",
   "metadata": {},
   "source": [
    "### Function for Update rule using gradient descent"
   ]
  },
  {
   "cell_type": "code",
   "execution_count": 40,
   "metadata": {},
   "outputs": [],
   "source": [
    "def gradient_descent(w,b,X,predicted,actual,alpha):\n",
    "    dw,db = Back_propogation(predicted,actual,X)\n",
    "    w = w - alpha*dw\n",
    "    b = b - alpha*db\n",
    "    return w,b"
   ]
  },
  {
   "cell_type": "markdown",
   "metadata": {},
   "source": [
    "### Function to train the logistic Regression model"
   ]
  },
  {
   "cell_type": "code",
   "execution_count": 41,
   "metadata": {},
   "outputs": [],
   "source": [
    "def logistic_regression_training(X, y, max_iter=1000, alpha=0.01, tol=1e-4):\n",
    "    random.seed(42)\n",
    "    w = []\n",
    "    cost = []\n",
    "    b = np.random.uniform(0,1)\n",
    "    d = 4\n",
    "    for j in range(0,d):\n",
    "        w.append(np.random.uniform(-0.01,0.01))\n",
    "    for i in range(max_iter):\n",
    "        pred = sigmoid(np.dot(w,X.T) + b)\n",
    "        dw,db = Back_propogation(pred,y,X)\n",
    "        if ((np.absolute(alpha * dw) <= tol).any() and (np.absolute(alpha *db) <= tol).any()):\n",
    "            break\n",
    "        cost.append(cost_function(y,pred))\n",
    "        w,b = gradient_descent(w,b,X,pred,y,alpha)\n",
    "    print(\"No of iterations to converge \" + str(i))\n",
    "    return w,b,cost\n",
    "        \n",
    "    \n",
    "    "
   ]
  },
  {
   "cell_type": "markdown",
   "metadata": {},
   "source": [
    "### Determining optimal weight and bias after training"
   ]
  },
  {
   "cell_type": "code",
   "execution_count": 42,
   "metadata": {},
   "outputs": [
    {
     "name": "stdout",
     "output_type": "stream",
     "text": [
      "No of iterations to converge 999\n",
      "Weights :[-0.7181594  -0.57206737  0.89113025  0.87025888]\n",
      "Bias :0.5122409464404587\n"
     ]
    }
   ],
   "source": [
    "W,B,cost = logistic_regression_training(x_train,y_train)\n",
    "print(\"Weights :\"+ str(W))\n",
    "print(\"Bias :\"+ str(B))"
   ]
  },
  {
   "cell_type": "markdown",
   "metadata": {},
   "source": [
    "### Function for predicting the class labels"
   ]
  },
  {
   "cell_type": "code",
   "execution_count": 43,
   "metadata": {},
   "outputs": [],
   "source": [
    "def logistic_regression_predict(x, W, b):\n",
    "    linear = np.dot(W,x.T) + B\n",
    "    y_pred = 1 / (1 + np.exp(-linear))\n",
    "    for i in range(len(y_pred)):\n",
    "        if (y_pred[i] < 0.5):\n",
    "            y_pred[i] = 0\n",
    "        else:\n",
    "            y_pred[i] = 1\n",
    "    return y_pred\n",
    "   \n"
   ]
  },
  {
   "cell_type": "markdown",
   "metadata": {},
   "source": [
    "### Function for determining the accuracy of the model"
   ]
  },
  {
   "cell_type": "code",
   "execution_count": 44,
   "metadata": {},
   "outputs": [],
   "source": [
    "def model_accuracy(y_actual,y_pred):\n",
    "    accuracy = sum(y_actual == y_pred)/len(y_pred)\n",
    "    return accuracy*100"
   ]
  },
  {
   "cell_type": "markdown",
   "metadata": {},
   "source": [
    "### calling of prediction and accuracy functions"
   ]
  },
  {
   "cell_type": "code",
   "execution_count": 45,
   "metadata": {},
   "outputs": [
    {
     "name": "stdout",
     "output_type": "stream",
     "text": [
      "accuracy of the model is :96.66666666666667%\n"
     ]
    }
   ],
   "source": [
    "y_pred = logistic_regression_predict(x_test,W,B)\n",
    "accuracy = model_accuracy(y_test,y_pred)\n",
    "print(\"Accuracy of the model is :\" +str(accuracy) + \"%\")"
   ]
  },
  {
   "cell_type": "markdown",
   "metadata": {},
   "source": [
    "### Plot of cost v/s no of iterations"
   ]
  },
  {
   "cell_type": "code",
   "execution_count": 46,
   "metadata": {},
   "outputs": [
    {
     "data": {
      "text/plain": [
       "[<matplotlib.lines.Line2D at 0x125ea9ac8>]"
      ]
     },
     "execution_count": 46,
     "metadata": {},
     "output_type": "execute_result"
    },
    {
     "data": {
      "image/png": "[encoded data removed]",
      "text/plain": [
       "<Figure size 432x288 with 1 Axes>"
      ]
     },
     "metadata": {},
     "output_type": "display_data"
    }
   ],
   "source": [
    "plt.plot(list(range(1000)),cost)"
   ]
  },
  {
   "cell_type": "code",
   "execution_count": null,
   "metadata": {},
   "outputs": [],
   "source": []
  }
 ],
 "metadata": {
  "colab": {
   "authorship_tag": "ABX9TyMFRtLAsfBV2gb4Kx4/JhpG",
   "collapsed_sections": [],
   "name": "Homework 1.ipynb",
   "provenance": []
  },
  "kernelspec": {
   "display_name": "Python 3",
   "language": "python",
   "name": "python3"
  },
  "language_info": {
   "codemirror_mode": {
    "name": "ipython",
    "version": 3
   },
   "file_extension": ".py",
   "mimetype": "text/x-python",
   "name": "python",
   "nbconvert_exporter": "python",
   "pygments_lexer": "ipython3",
   "version": "3.7.3"
  }
 },
 "nbformat": 4,
 "nbformat_minor": 1
}
